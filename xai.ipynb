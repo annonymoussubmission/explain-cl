{
 "cells": [
  {
   "cell_type": "markdown",
   "metadata": {},
   "source": [
    "# Methods for Understanding Contrastive Learning"
   ]
  },
  {
   "cell_type": "code",
   "execution_count": null,
   "metadata": {},
   "outputs": [],
   "source": [
    "import torch\n",
    "import numpy as np\n",
    "import torch.nn as nn\n",
    "import torchvision.transforms as transforms\n",
    "import matplotlib.pyplot as plt\n",
    "from PIL import Image \n",
    "import cv2\n",
    "\n",
    "%matplotlib inline\n",
    "device = torch.device(\"cuda\" if torch.cuda.is_available() else \"cpu\")"
   ]
  },
  {
   "cell_type": "code",
   "execution_count": null,
   "metadata": {},
   "outputs": [],
   "source": [
    "from data_transforms import normal_transforms, no_shift_transforms, ig_transforms, modify_transforms\n",
    "from utils import overlay_heatmap, viz_map, show_image, deprocess, get_ssl_model, fig2img\n",
    "from methods import occlusion, occlusion_context_agnositc, pairwise_occlusion\n",
    "from methods import create_mixed_images, averaged_transforms, sailency, smooth_grad \n",
    "from methods import get_sample_dataset, pixel_invariance, get_gradcam, get_interactioncam"
   ]
  },
  {
   "cell_type": "code",
   "execution_count": null,
   "metadata": {},
   "outputs": [],
   "source": [
    "network = 'simclrv2'   \n",
    "denorm = False\n",
    "\n",
    "ssl_model = get_ssl_model(network, '1x')  \n",
    "\n",
    "if network != 'simclrv2':\n",
    "    # add ImageNet normalization to data transforms since these models expect the input to be ImageNet mean and std normalized\n",
    "    normal_transforms, no_shift_transforms, ig_transforms = modify_transforms(normal_transforms, no_shift_transforms, ig_transforms)\n",
    "    denorm = True"
   ]
  },
  {
   "cell_type": "code",
   "execution_count": null,
   "metadata": {},
   "outputs": [],
   "source": [
    "img_path = 'images/dog.jpeg'\n",
    "img = Image.open(img_path).convert('RGB')\n",
    "augment_first_img = False\n",
    "\n",
    "if augment_first_img:\n",
    "    img1 = normal_transforms['aug'](img).unsqueeze(0).to(device)\n",
    "else:\n",
    "    img1 = normal_transforms['pure'](img).unsqueeze(0).to(device)\n",
    "    \n",
    "img2 = normal_transforms['aug'](img).unsqueeze(0).to(device)\n",
    "print(\"Similarity from model: \", nn.CosineSimilarity(dim=-1)(ssl_model(img1), ssl_model(img2)).item())\n",
    "\n",
    "fig, axs = plt.subplots(1, 2, figsize=(10,10))\n",
    "np.vectorize(lambda ax:ax.axis('off'))(axs)\n",
    "\n",
    "axs[0].imshow(show_image(img1, denormalize = denorm))  \n",
    "axs[1].imshow(show_image(img2, denormalize = denorm))\n",
    "plt.subplots_adjust(wspace=0.1, hspace = 0)"
   ]
  },
  {
   "cell_type": "markdown",
   "metadata": {},
   "source": [
    "### Perturbation Methods\n",
    "*Conditional Occlusion, Context-Agnostic Conditional Occlusion, Context-Agnostic Conditional Occlusion + Gradient Weighting, Pairwise Occlusion*"
   ]
  },
  {
   "cell_type": "code",
   "execution_count": null,
   "metadata": {},
   "outputs": [],
   "source": [
    "heatmap1, heatmap2 = occlusion(img1, img2, ssl_model, w_size = 64, stride = 8, batch_size = 32)\n",
    "heatmap1_ca, heatmap2_ca = occlusion_context_agnositc(img1, img2, ssl_model, w_size = 64, stride = 8, batch_size = 32)\n",
    "heatmap1_po, heatmap2_po = pairwise_occlusion(img1, img2, ssl_model, batch_size = 32, erase_scale = (0.1, 0.3), erase_ratio = (1, 1.5), num_erases = 100)\n",
    "\n",
    "added_image1 = overlay_heatmap(img1, heatmap1, denormalize = denorm)\n",
    "added_image2 = overlay_heatmap(img2, heatmap2, denormalize = denorm)\n",
    "added_image1_ca = overlay_heatmap(img1, heatmap1_ca, denormalize = denorm)\n",
    "added_image2_ca = overlay_heatmap(img2, heatmap2_ca, denormalize = denorm)\n",
    "\n",
    "fig, axs = plt.subplots(2, 4, figsize=(20,10))\n",
    "np.vectorize(lambda ax:ax.axis('off'))(axs)\n",
    "\n",
    "axs[0, 0].imshow(show_image(img1, denormalize = denorm))\n",
    "axs[0, 1].imshow(added_image1)\n",
    "axs[0, 1].set_title(\"Conditional Occlusion\")\n",
    "axs[0, 2].imshow(added_image1_ca)\n",
    "axs[0, 2].set_title(\"CA Cond. Occlusion\")\n",
    "axs[0, 3].imshow((deprocess(img1, denormalize = denorm) * heatmap1_po[:,:,None]).astype('uint8'))\n",
    "axs[0, 3].set_title(\"Pairwise Occlusion\")\n",
    "axs[1, 0].imshow(show_image(img2, denormalize = denorm))\n",
    "axs[1, 1].imshow(added_image2)\n",
    "axs[1, 2].imshow(added_image2_ca)\n",
    "axs[1, 3].imshow((deprocess(img2, denormalize = denorm) * heatmap2_po[:,:,None]).astype('uint8'))\n",
    "plt.subplots_adjust(wspace=0, hspace = 0.01)"
   ]
  },
  {
   "cell_type": "markdown",
   "metadata": {},
   "source": [
    "### Averaged Transforms"
   ]
  },
  {
   "cell_type": "code",
   "execution_count": null,
   "metadata": {},
   "outputs": [],
   "source": [
    "# 'color_jitter', 'blur', 'grayscale', 'solarize', 'combine'\n",
    "mixed_images = create_mixed_images(transform_type = 'combine', \n",
    "                                   ig_transforms = ig_transforms, \n",
    "                                   step = 0.1, \n",
    "                                   img_path = img_path, \n",
    "                                   add_noise = True)"
   ]
  },
  {
   "cell_type": "code",
   "execution_count": null,
   "metadata": {},
   "outputs": [],
   "source": [
    "fig, axs = plt.subplots(1, len(mixed_images), figsize=(20,10))\n",
    "np.vectorize(lambda ax:ax.axis('off'))(axs)\n",
    "for m in range(len(mixed_images)):\n",
    "    axs[m].imshow(show_image(mixed_images[m], denormalize = denorm))"
   ]
  },
  {
   "cell_type": "code",
   "execution_count": null,
   "metadata": {},
   "outputs": [],
   "source": [
    "# vanilla gradients (for comparison purposes)\n",
    "sailency1_van, sailency2_van = sailency(guided = True, ssl_model = ssl_model, \n",
    "                                        img1 = mixed_images[0], img2 = mixed_images[-1], \n",
    "                                        blur_output = True)\n",
    "\n",
    "# smooth gradients (for comparison purposes)\n",
    "sailency1_s, sailency2_s = smooth_grad(guided = True, ssl_model = ssl_model, \n",
    "                                       img1 = mixed_images[0], img2 = mixed_images[-1], \n",
    "                                       blur_output = True, steps = 50)\n",
    "\n",
    "# integrated transform\n",
    "sailency1, sailency2 = averaged_transforms(guided = True, ssl_model = ssl_model, \n",
    "                                           mixed_images = mixed_images, \n",
    "                                           blur_output = True)\n",
    "\n",
    "fig, axs = plt.subplots(2, 4, figsize=(20,10))\n",
    "np.vectorize(lambda ax:ax.axis('off'))(axs)\n",
    "\n",
    "axs[0,0].imshow(show_image(mixed_images[0], denormalize = denorm))\n",
    "axs[0,1].imshow(show_image(sailency1_van.detach(), squeeze = False), cmap = plt.cm.jet)\n",
    "axs[0,1].imshow(show_image(mixed_images[0], denormalize = denorm), alpha=0.5)\n",
    "axs[0,1].set_title(\"Vanilla Gradients\")\n",
    "axs[0,2].imshow(show_image(sailency1_s.detach(), squeeze = False), cmap = plt.cm.jet)\n",
    "axs[0,2].imshow(show_image(mixed_images[0], denormalize = denorm), alpha=0.5)\n",
    "axs[0,2].set_title(\"Smooth Gradients\")\n",
    "axs[0,3].imshow(show_image(sailency1.detach(), squeeze = False), cmap = plt.cm.jet)\n",
    "axs[0,3].imshow(show_image(mixed_images[0], denormalize = denorm), alpha=0.5)\n",
    "axs[0,3].set_title(\"Integrated Transform\")\n",
    "axs[1,0].imshow(show_image(mixed_images[-1], denormalize = denorm))\n",
    "axs[1,1].imshow(show_image(sailency2_van.detach(), squeeze = False), cmap = plt.cm.jet)\n",
    "axs[1,1].imshow(show_image(mixed_images[-1], denormalize = denorm), alpha=0.5)\n",
    "axs[1,2].imshow(show_image(sailency2_s.detach(), squeeze = False), cmap = plt.cm.jet)\n",
    "axs[1,2].imshow(show_image(mixed_images[-1], denormalize = denorm), alpha=0.5)\n",
    "axs[1,3].imshow(show_image(sailency2.detach(), squeeze = False), cmap = plt.cm.jet)\n",
    "axs[1,3].imshow(show_image(mixed_images[-1], denormalize = denorm), alpha=0.5)\n",
    "\n",
    "plt.subplots_adjust(wspace=0.02, hspace = 0.02)"
   ]
  },
  {
   "cell_type": "markdown",
   "metadata": {},
   "source": [
    "### Pixel Invariance"
   ]
  },
  {
   "cell_type": "code",
   "execution_count": null,
   "metadata": {},
   "outputs": [],
   "source": [
    "data_samples1, data_samples2, data_labels, labels_invariance = get_sample_dataset(img_path = img_path, \n",
    "                                                                                  num_augments = 1000, \n",
    "                                                                                  batch_size =  32, \n",
    "                                                                                  no_shift_transforms = no_shift_transforms, \n",
    "                                                                                  ssl_model = ssl_model, \n",
    "                                                                                  n_components = 10)"
   ]
  },
  {
   "cell_type": "code",
   "execution_count": null,
   "metadata": {},
   "outputs": [],
   "source": [
    "inv_heatmap = pixel_invariance(data_samples1 = data_samples1, data_samples2 = data_samples2, data_labels = data_labels,\n",
    "                               labels_invariance = labels_invariance, resize_transform = transforms.Resize, size = 64, \n",
    "                               epochs = 1000, learning_rate = 0.1, l1_weight = 0.2, zero_small_values = True, \n",
    "                               blur_output = True, nmf_weight = 0)\n",
    "\n",
    "inv_heatmap_nmf = pixel_invariance(data_samples1 = data_samples1, data_samples2 = data_samples2, data_labels = data_labels,\n",
    "                                   labels_invariance = labels_invariance, resize_transform = transforms.Resize, size = 64, \n",
    "                                   epochs = 100, learning_rate = 0.1, l1_weight = 0.2, zero_small_values = True, \n",
    "                                   blur_output = True, nmf_weight = 1)\n",
    "\n",
    "fig, axs = plt.subplots(1, 2, figsize=(10,5))\n",
    "np.vectorize(lambda ax:ax.axis('off'))(axs)\n",
    "\n",
    "axs[0].imshow(viz_map(img_path, inv_heatmap))\n",
    "axs[0].set_title(\"Heatmap w/o NMF\")\n",
    "axs[1].imshow(viz_map(img_path, inv_heatmap_nmf))\n",
    "axs[1].set_title(\"Heatmap w/ NMF\")\n",
    "plt.subplots_adjust(wspace=0.01, hspace = 0.01)"
   ]
  },
  {
   "cell_type": "markdown",
   "metadata": {},
   "source": [
    "### Interaction-CAM"
   ]
  },
  {
   "cell_type": "code",
   "execution_count": null,
   "metadata": {},
   "outputs": [],
   "source": [
    "gradcam1, gradcam2 = get_gradcam(ssl_model, img1, img2)\n",
    "intcam1_mean, intcam2_mean = get_interactioncam(ssl_model, img1, img2, reduction = 'mean')\n",
    "intcam1_maxmax, intcam2_maxmax = get_interactioncam(ssl_model, img1, img2, reduction = 'max', grad_interact = True)\n",
    "intcam1_attnmax, intcam2_attnmax = get_interactioncam(ssl_model, img1, img2, reduction = 'attn', grad_interact = True)\n",
    "\n",
    "fig, axs = plt.subplots(2, 5, figsize=(20,8))\n",
    "np.vectorize(lambda ax:ax.axis('off'))(axs)\n",
    "\n",
    "axs[0,0].imshow(show_image(img1[0], squeeze = False, denormalize = denorm))\n",
    "axs[0,1].imshow(overlay_heatmap(img1, gradcam1, denormalize = denorm))\n",
    "axs[0,1].set_title(\"Grad-CAM\")\n",
    "axs[0,2].imshow(overlay_heatmap(img1, intcam1_mean, denormalize = denorm))\n",
    "axs[0,2].set_title(\"IntCAM Mean\")\n",
    "axs[0,3].imshow(overlay_heatmap(img1, intcam1_maxmax, denormalize = denorm))\n",
    "axs[0,3].set_title(\"IntCAM Max + IntGradMax\")\n",
    "axs[0,4].imshow(overlay_heatmap(img1, intcam1_attnmax, denormalize = denorm))\n",
    "axs[0,4].set_title(\"IntCAM Attn + IntGradMax\")\n",
    "\n",
    "axs[1,0].imshow(show_image(img2[0], squeeze = False, denormalize = denorm))\n",
    "axs[1,1].imshow(overlay_heatmap(img2, gradcam2, denormalize = denorm))\n",
    "axs[1,2].imshow(overlay_heatmap(img2, intcam2_mean, denormalize = denorm))\n",
    "axs[1,3].imshow(overlay_heatmap(img2, intcam2_maxmax, denormalize = denorm))\n",
    "axs[1,4].imshow(overlay_heatmap(img2, intcam2_attnmax, denormalize = denorm))\n",
    "\n",
    "plt.subplots_adjust(wspace=0.01, hspace = 0.01)"
   ]
  },
  {
   "cell_type": "code",
   "execution_count": null,
   "metadata": {},
   "outputs": [],
   "source": []
  }
 ],
 "metadata": {
  "kernelspec": {
   "display_name": "Python 3",
   "language": "python",
   "name": "python3"
  },
  "language_info": {
   "codemirror_mode": {
    "name": "ipython",
    "version": 3
   },
   "file_extension": ".py",
   "mimetype": "text/x-python",
   "name": "python",
   "nbconvert_exporter": "python",
   "pygments_lexer": "ipython3",
   "version": "3.6.12"
  }
 },
 "nbformat": 4,
 "nbformat_minor": 4
}
